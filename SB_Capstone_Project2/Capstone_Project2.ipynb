{
 "cells": [
  {
   "cell_type": "markdown",
   "metadata": {},
   "source": [
    "<html>\n",
    "<body>"
   ]
  },
  {
   "cell_type": "markdown",
   "metadata": {},
   "source": [
    "<h1 id=\"H\"> Sentiment Analysis on Movie Reviews</h1>"
   ]
  },
  {
   "cell_type": "markdown",
   "metadata": {},
   "source": [
    "- <a href=\"#C1\">1. Problem Description</a>\n",
    "- <a href=\"#C2\">2. Load the Dataset and Have a First Look</a>\n",
    "- <a href=\"#C3\">3. Preprocessing of Text: Vectorizer</a>\n",
    "- <a href=\"#C4\">4. Modeling, Evaluation and Improving the Model</a>\n",
    "- <a href=\"#C5\">5. Predict the Sentiment labels of Sentiment_unknow Set</a>\n",
    "- <a href=\"#C6\">6. Conclusion</a>"
   ]
  },
  {
   "cell_type": "markdown",
   "metadata": {},
   "source": [
    "<h2 id=\"C1\">1. Problem Description</h2>\n",
    "\n",
    "<p>\n",
    "Opinion mining or sentiment analysis aims to determine the attitude of a critic or customer or other subject with respected to a topic. And in this project, attitude of critics and users towards various movies is what we are concerned. \n",
    "</p>\n",
    "<p>Cognitive insight is important for online streaming or shopping website, because it can help to predict whether customers like or dislike a movie or other products. When they submit a new comment, the website can offer some feedback according to customers’ attitude. And in this project, the data is from kaggle.com.\n",
    "</p>\n",
    "<p>And the goal of the project is to produce an algorithm to classify phrases into 5 categories: negative, somewhat negative, neutral, somewaht postive and positive.\n",
    "</p>"
   ]
  },
  {
   "cell_type": "code",
   "execution_count": 108,
   "metadata": {
    "collapsed": true
   },
   "outputs": [],
   "source": [
    "import nltk\n",
    "from sklearn.feature_extraction.text import CountVectorizer\n",
    "from sklearn.feature_extraction.text import TfidfVectorizer\n",
    "from sklearn.model_selection import train_test_split\n",
    "from sklearn import metrics\n",
    "from sklearn.naive_bayes import MultinomialNB\n",
    "import pandas as pd\n",
    "import numpy as np\n",
    "import matplotlib.pyplot as plt\n",
    "%matplotlib inline \n",
    "senti_known= pd.read_csv('train.tsv/train.tsv',delimiter='\\t',encoding='utf-8')\n",
    "senti_unknown = pd.read_csv('test.tsv/test.tsv',delimiter='\\t',encoding='utf-8')"
   ]
  },
  {
   "cell_type": "markdown",
   "metadata": {},
   "source": [
    "<h2 id='C2'>2. Load the Dataset and Have a First Look</h2>"
   ]
  },
  {
   "cell_type": "markdown",
   "metadata": {},
   "source": [
    "### 2.1 Data set with sentiment labels"
   ]
  },
  {
   "cell_type": "code",
   "execution_count": 78,
   "metadata": {
    "scrolled": false
   },
   "outputs": [
    {
     "name": "stdout",
     "output_type": "stream",
     "text": [
      "<class 'pandas.core.frame.DataFrame'>\n",
      "RangeIndex: 156060 entries, 0 to 156059\n",
      "Data columns (total 4 columns):\n",
      "PhraseId      156060 non-null int64\n",
      "SentenceId    156060 non-null int64\n",
      "Phrase        156060 non-null object\n",
      "Sentiment     156060 non-null int64\n",
      "dtypes: int64(3), object(1)\n",
      "memory usage: 4.8+ MB\n"
     ]
    }
   ],
   "source": [
    "senti_known.info()"
   ]
  },
  {
   "cell_type": "code",
   "execution_count": 79,
   "metadata": {
    "scrolled": false
   },
   "outputs": [
    {
     "data": {
      "text/html": [
       "<div>\n",
       "<style>\n",
       "    .dataframe thead tr:only-child th {\n",
       "        text-align: right;\n",
       "    }\n",
       "\n",
       "    .dataframe thead th {\n",
       "        text-align: left;\n",
       "    }\n",
       "\n",
       "    .dataframe tbody tr th {\n",
       "        vertical-align: top;\n",
       "    }\n",
       "</style>\n",
       "<table border=\"1\" class=\"dataframe\">\n",
       "  <thead>\n",
       "    <tr style=\"text-align: right;\">\n",
       "      <th></th>\n",
       "      <th>PhraseId</th>\n",
       "      <th>SentenceId</th>\n",
       "      <th>Phrase</th>\n",
       "      <th>Sentiment</th>\n",
       "    </tr>\n",
       "  </thead>\n",
       "  <tbody>\n",
       "    <tr>\n",
       "      <th>0</th>\n",
       "      <td>1</td>\n",
       "      <td>1</td>\n",
       "      <td>A series of escapades demonstrating the adage ...</td>\n",
       "      <td>1</td>\n",
       "    </tr>\n",
       "    <tr>\n",
       "      <th>1</th>\n",
       "      <td>2</td>\n",
       "      <td>1</td>\n",
       "      <td>A series of escapades demonstrating the adage ...</td>\n",
       "      <td>2</td>\n",
       "    </tr>\n",
       "    <tr>\n",
       "      <th>2</th>\n",
       "      <td>3</td>\n",
       "      <td>1</td>\n",
       "      <td>A series</td>\n",
       "      <td>2</td>\n",
       "    </tr>\n",
       "    <tr>\n",
       "      <th>3</th>\n",
       "      <td>4</td>\n",
       "      <td>1</td>\n",
       "      <td>A</td>\n",
       "      <td>2</td>\n",
       "    </tr>\n",
       "    <tr>\n",
       "      <th>4</th>\n",
       "      <td>5</td>\n",
       "      <td>1</td>\n",
       "      <td>series</td>\n",
       "      <td>2</td>\n",
       "    </tr>\n",
       "  </tbody>\n",
       "</table>\n",
       "</div>"
      ],
      "text/plain": [
       "   PhraseId  SentenceId                                             Phrase  \\\n",
       "0         1           1  A series of escapades demonstrating the adage ...   \n",
       "1         2           1  A series of escapades demonstrating the adage ...   \n",
       "2         3           1                                           A series   \n",
       "3         4           1                                                  A   \n",
       "4         5           1                                             series   \n",
       "\n",
       "   Sentiment  \n",
       "0          1  \n",
       "1          2  \n",
       "2          2  \n",
       "3          2  \n",
       "4          2  "
      ]
     },
     "execution_count": 79,
     "metadata": {},
     "output_type": "execute_result"
    }
   ],
   "source": [
    "senti_known.head()"
   ]
  },
  {
   "cell_type": "markdown",
   "metadata": {},
   "source": [
    "### 2.2 Five sentiment levels"
   ]
  },
  {
   "cell_type": "code",
   "execution_count": 81,
   "metadata": {},
   "outputs": [
    {
     "name": "stdout",
     "output_type": "stream",
     "text": [
      "{0, 1, 2, 3, 4}\n"
     ]
    }
   ],
   "source": [
    "Sentiment = set()\n",
    "for i in senti_known.Sentiment:\n",
    "    Sentiment.add(i)\n",
    "print(Sentiment)"
   ]
  },
  {
   "cell_type": "markdown",
   "metadata": {},
   "source": [
    "- 0 : negative\n",
    "- 1 : somewhat negative\n",
    "- 2 : neutral\n",
    "- 3 : somewhat positive\n",
    "- 4 : positive"
   ]
  },
  {
   "cell_type": "code",
   "execution_count": 82,
   "metadata": {
    "scrolled": true
   },
   "outputs": [
    {
     "data": {
      "text/plain": [
       "(array([  7072.,      0.,  27273.,      0.,      0.,  79582.,      0.,\n",
       "         32927.,      0.,   9206.]),\n",
       " array([ 0. ,  0.4,  0.8,  1.2,  1.6,  2. ,  2.4,  2.8,  3.2,  3.6,  4. ]),\n",
       " <a list of 10 Patch objects>)"
      ]
     },
     "execution_count": 82,
     "metadata": {},
     "output_type": "execute_result"
    },
    {
     "data": {
      "image/png": "[encoded data removed]",
      "text/plain": [
       "<matplotlib.figure.Figure at 0x29f6d3239b0>"
      ]
     },
     "metadata": {},
     "output_type": "display_data"
    }
   ],
   "source": [
    "plt.hist(senti_known.Sentiment)"
   ]
  },
  {
   "cell_type": "markdown",
   "metadata": {},
   "source": [
    "### 2.3 Most Common Words"
   ]
  },
  {
   "cell_type": "code",
   "execution_count": 84,
   "metadata": {},
   "outputs": [
    {
     "name": "stdout",
     "output_type": "stream",
     "text": [
      "[('the', 51220), ('a', 36130), ('of', 32308), ('and', 31763), ('to', 22448), ('s', 17002), ('in', 13745), ('is', 13447), ('that', 12327), ('it', 11677)]\n"
     ]
    }
   ],
   "source": [
    "import string\n",
    "from collections import Counter\n",
    "from nltk.corpus import stopwords\n",
    "\n",
    "translator = str.maketrans('', '', string.punctuation)\n",
    "def get_tokens(text):\n",
    "    #remove the punctuation using the character deletion step of translate\n",
    "    text_lower=text.lower()\n",
    "    no_punctuation = text_lower.translate(translator)\n",
    "    tokens = nltk.word_tokenize(no_punctuation)\n",
    "    return tokens\n",
    "\n",
    "tokens=list()\n",
    "for text in senti_known.Phrase:\n",
    "    token = get_tokens(text)\n",
    "    tokens.extend(token)\n",
    "    \n",
    "count = Counter(tokens)\n",
    "print(count.most_common(10))"
   ]
  },
  {
   "cell_type": "code",
   "execution_count": 85,
   "metadata": {},
   "outputs": [
    {
     "name": "stdout",
     "output_type": "stream",
     "text": [
      "There are 1047954 tokens in the text:\n"
     ]
    }
   ],
   "source": [
    "print('There are {} tokens in the text:'.format(len(tokens)))"
   ]
  },
  {
   "cell_type": "code",
   "execution_count": 86,
   "metadata": {},
   "outputs": [
    {
     "name": "stdout",
     "output_type": "stream",
     "text": [
      "There are 16402 types in the text:\n"
     ]
    }
   ],
   "source": [
    "token_set=set()\n",
    "for token in tokens:\n",
    "    token_set.add(token)\n",
    "print('There are {} types in the text:'.format(len(token_set)))"
   ]
  },
  {
   "cell_type": "code",
   "execution_count": 88,
   "metadata": {},
   "outputs": [
    {
     "name": "stdout",
     "output_type": "stream",
     "text": [
      "[('film', 6689), ('movie', 5905), ('nt', 3970), ('one', 3609), ('like', 3071), ('story', 2520), ('rrb', 2438), ('lrb', 2098), ('good', 2043), ('characters', 1882), ('much', 1862), ('time', 1747), ('comedy', 1721), ('even', 1597), ('little', 1575), ('funny', 1522), ('way', 1511), ('life', 1484), ('make', 1396), ('movies', 1345), ('love', 1296), ('new', 1278), ('enough', 1248), ('work', 1243), ('us', 1234), ('bad', 1211), ('something', 1152), ('would', 1118), ('never', 1114), ('director', 1099), ('many', 1094), ('people', 1073), ('made', 1060), ('best', 1059), ('two', 1032), ('makes', 1019), ('action', 1005), ('may', 986), ('plot', 979), ('films', 979), ('could', 969), ('character', 968), ('see', 957), ('well', 944), ('world', 917), ('better', 913), ('audience', 912), ('drama', 894), ('look', 888), ('really', 888), ('without', 872), ('sense', 869), ('every', 849), ('great', 838), ('humor', 827), ('long', 821), ('first', 819), ('another', 818), ('feel', 808), ('get', 805), ('minutes', 802), ('big', 779), ('man', 772), ('performances', 765), ('cast', 760), ('real', 758), ('ever', 755), ('still', 748), ('hollywood', 746), ('nothing', 724), ('human', 716), ('performance', 710), ('fun', 703), ('might', 698), ('old', 691), ('less', 688), ('screen', 688), ('things', 687), ('often', 682), ('kind', 668), ('moments', 667), ('script', 664), ('family', 663), ('also', 659), ('seen', 659), ('american', 650), ('far', 649), ('interesting', 649), ('acting', 648), ('rather', 641), ('original', 641), ('watch', 628), ('heart', 620), ('almost', 619), ('back', 617), ('young', 616), ('emotional', 615), ('entertaining', 613), ('material', 610), ('end', 608)]\n"
     ]
    }
   ],
   "source": [
    "filtered = [w for w in tokens if not w in stopwords.words('english')]\n",
    "count = Counter(filtered)\n",
    "print(count.most_common(100))"
   ]
  },
  {
   "cell_type": "code",
   "execution_count": 89,
   "metadata": {
    "collapsed": true
   },
   "outputs": [],
   "source": [
    "txt = ''\n",
    "for token in filtered:\n",
    "    txt += (token+' ')"
   ]
  },
  {
   "cell_type": "code",
   "execution_count": 90,
   "metadata": {
    "scrolled": true
   },
   "outputs": [
    {
     "data": {
      "image/png": "[encoded data removed]",
      "text/plain": [
       "<matplotlib.figure.Figure at 0x29f72803160>"
      ]
     },
     "metadata": {},
     "output_type": "display_data"
    }
   ],
   "source": [
    "from wordcloud import WordCloud, STOPWORDS\n",
    "\n",
    "wordcloud = WordCloud(stopwords=STOPWORDS,\n",
    "                      background_color='black',\n",
    "                      width=3000,\n",
    "                      height=2500\n",
    "                     ).generate(txt)\n",
    "plt.figure(1,figsize=(13, 13))\n",
    "plt.imshow(wordcloud)\n",
    "plt.axis('off')\n",
    "plt.show()"
   ]
  },
  {
   "cell_type": "markdown",
   "metadata": {},
   "source": [
    "### 2.4 Data set without sentiment labels"
   ]
  },
  {
   "cell_type": "code",
   "execution_count": 91,
   "metadata": {
    "scrolled": true
   },
   "outputs": [
    {
     "name": "stdout",
     "output_type": "stream",
     "text": [
      "<class 'pandas.core.frame.DataFrame'>\n",
      "RangeIndex: 66292 entries, 0 to 66291\n",
      "Data columns (total 3 columns):\n",
      "PhraseId      66292 non-null int64\n",
      "SentenceId    66292 non-null int64\n",
      "Phrase        66292 non-null object\n",
      "dtypes: int64(2), object(1)\n",
      "memory usage: 1.5+ MB\n"
     ]
    }
   ],
   "source": [
    "senti_unknown.info()"
   ]
  },
  {
   "cell_type": "code",
   "execution_count": 92,
   "metadata": {
    "scrolled": true
   },
   "outputs": [
    {
     "data": {
      "text/html": [
       "<div>\n",
       "<style>\n",
       "    .dataframe thead tr:only-child th {\n",
       "        text-align: right;\n",
       "    }\n",
       "\n",
       "    .dataframe thead th {\n",
       "        text-align: left;\n",
       "    }\n",
       "\n",
       "    .dataframe tbody tr th {\n",
       "        vertical-align: top;\n",
       "    }\n",
       "</style>\n",
       "<table border=\"1\" class=\"dataframe\">\n",
       "  <thead>\n",
       "    <tr style=\"text-align: right;\">\n",
       "      <th></th>\n",
       "      <th>PhraseId</th>\n",
       "      <th>SentenceId</th>\n",
       "      <th>Phrase</th>\n",
       "    </tr>\n",
       "  </thead>\n",
       "  <tbody>\n",
       "    <tr>\n",
       "      <th>0</th>\n",
       "      <td>156061</td>\n",
       "      <td>8545</td>\n",
       "      <td>An intermittently pleasing but mostly routine ...</td>\n",
       "    </tr>\n",
       "    <tr>\n",
       "      <th>1</th>\n",
       "      <td>156062</td>\n",
       "      <td>8545</td>\n",
       "      <td>An intermittently pleasing but mostly routine ...</td>\n",
       "    </tr>\n",
       "    <tr>\n",
       "      <th>2</th>\n",
       "      <td>156063</td>\n",
       "      <td>8545</td>\n",
       "      <td>An</td>\n",
       "    </tr>\n",
       "    <tr>\n",
       "      <th>3</th>\n",
       "      <td>156064</td>\n",
       "      <td>8545</td>\n",
       "      <td>intermittently pleasing but mostly routine effort</td>\n",
       "    </tr>\n",
       "    <tr>\n",
       "      <th>4</th>\n",
       "      <td>156065</td>\n",
       "      <td>8545</td>\n",
       "      <td>intermittently pleasing but mostly routine</td>\n",
       "    </tr>\n",
       "  </tbody>\n",
       "</table>\n",
       "</div>"
      ],
      "text/plain": [
       "   PhraseId  SentenceId                                             Phrase\n",
       "0    156061        8545  An intermittently pleasing but mostly routine ...\n",
       "1    156062        8545  An intermittently pleasing but mostly routine ...\n",
       "2    156063        8545                                                 An\n",
       "3    156064        8545  intermittently pleasing but mostly routine effort\n",
       "4    156065        8545         intermittently pleasing but mostly routine"
      ]
     },
     "execution_count": 92,
     "metadata": {},
     "output_type": "execute_result"
    }
   ],
   "source": [
    "senti_unknown.head()"
   ]
  },
  {
   "cell_type": "markdown",
   "metadata": {},
   "source": [
    "<h2 id='C2'>3. Preprocessing of Text: Vectorizer</h2>"
   ]
  },
  {
   "cell_type": "code",
   "execution_count": 157,
   "metadata": {},
   "outputs": [],
   "source": [
    "from nltk.stem.porter import *\n",
    "from sklearn.feature_extraction.text import CountVectorizer\n",
    "stop = nltk.corpus.stopwords.words('english')\n",
    "stemmer = PorterStemmer()\n",
    "\n",
    "analyzer = CountVectorizer(stop_words= \"english\",ngram_range=(1,2)).build_analyzer()\n",
    "\n",
    "def stemmed_words(doc):\n",
    "    return (stemmer.stem(w) for w in analyzer(doc))\n",
    "\n",
    "stem_count_vectorizer1 = CountVectorizer(analyzer=stemmed_words)"
   ]
  },
  {
   "cell_type": "code",
   "execution_count": 158,
   "metadata": {},
   "outputs": [
    {
     "name": "stdout",
     "output_type": "stream",
     "text": [
      "['000', '000 leagu', '000 time', '10', '10 000', '10 15', '10 cours', '10 minut', '10 powerpuff', '10 second']\n"
     ]
    }
   ],
   "source": [
    "# Create a series to store the labels: y\n",
    "y = senti_known['Sentiment']\n",
    "\n",
    "# Create training and test sets\n",
    "X_train, X_test, y_train, y_test = train_test_split(senti_known.Phrase,y,test_size=0.33,random_state=53)\n",
    "\n",
    "# Transform the training data using only the 'text' column values: count_train \n",
    "stem_count_train1 = stem_count_vectorizer1.fit_transform(X_train)\n",
    "\n",
    "# Transform the test data using only the 'text' column values: count_test \n",
    "stem_count_test1 = stem_count_vectorizer1.transform(X_test)\n",
    "\n",
    "# Print the first 10 features of the count_vectorizer\n",
    "print(stem_count_vectorizer1.get_feature_names()[:10])"
   ]
  },
  {
   "cell_type": "code",
   "execution_count": 159,
   "metadata": {},
   "outputs": [
    {
     "name": "stdout",
     "output_type": "stream",
     "text": [
      "[1 3 2 ..., 2 3 2]\n",
      "0.615980582524\n"
     ]
    }
   ],
   "source": [
    "# Instantiate a Multinomial Naive Bayes classifier: nb_classifier\n",
    "nb_classifier = MultinomialNB()\n",
    "\n",
    "# Fit the classifier to the training data\n",
    "nb_classifier.fit(stem_count_train1,y_train)\n",
    "\n",
    "# Create the predicted tags: pred\n",
    "pred = nb_classifier.predict(stem_count_test1)\n",
    "print(pred)\n",
    "\n",
    "# Calculate the accuracy score: score\n",
    "score = metrics.accuracy_score(y_test,pred)\n",
    "print(score)\n"
   ]
  },
  {
   "cell_type": "markdown",
   "metadata": {},
   "source": [
    "### 3.1 Stemmed Count Vectorizer with ngram_range=(1,2)"
   ]
  },
  {
   "cell_type": "code",
   "execution_count": 160,
   "metadata": {},
   "outputs": [
    {
     "name": "stdout",
     "output_type": "stream",
     "text": [
      "['000', '000 leagu', '000 time', '10', '10 000', '10 15', '10 cours', '10 minut', '10 powerpuff', '10 second']\n"
     ]
    }
   ],
   "source": [
    "analyzer_count1 = CountVectorizer(stop_words= \"english\",ngram_range=(1,2)).build_analyzer()\n",
    "\n",
    "def stemmed_words_count1(doc):\n",
    "    return (stemmer.stem(w) for w in analyzer_count1(doc))\n",
    "\n",
    "# Create a stem_count_vectorizer with stemmed analyzer and ngram_range=(1,2)\n",
    "stem_count_vectorizer1 = CountVectorizer(analyzer=stemmed_words_count1)\n",
    "\n",
    "# Create a series to store the labels: y\n",
    "y = senti_known['Sentiment']\n",
    "\n",
    "# Create training and test sets\n",
    "X_train, X_test, y_train, y_test = train_test_split(senti_known.Phrase,y,test_size=0.33,random_state=53)\n",
    "\n",
    "# Transform the training data using only the 'text' column values: count_train \n",
    "stem_count_train1 = stem_count_vectorizer1.fit_transform(X_train)\n",
    "\n",
    "# Transform the test data using only the 'text' column values: count_test \n",
    "stem_count_test1 = stem_count_vectorizer1.transform(X_test)\n",
    "\n",
    "# Print the first 10 features of the count_vectorizer\n",
    "print(stem_count_vectorizer1.get_feature_names()[:10])"
   ]
  },
  {
   "cell_type": "markdown",
   "metadata": {},
   "source": [
    "### 3.2 Count Vectorizer with ngram_range=(3,4)"
   ]
  },
  {
   "cell_type": "code",
   "execution_count": 161,
   "metadata": {},
   "outputs": [
    {
     "name": "stdout",
     "output_type": "stream",
     "text": [
      "['000 leagues sea', '000 leagues sea georg', '10 000 time', '10 15 minut', '10 15 minutes cut', '10 15 minutes wendigo', '10 course banquet', '10 minutes film', '10 minutes film l', '10 minutes past']\n"
     ]
    }
   ],
   "source": [
    "analyzer_count2 = CountVectorizer(stop_words= \"english\",ngram_range=(3,4)).build_analyzer()\n",
    "\n",
    "def stemmed_words_count2(doc):\n",
    "    return (stemmer.stem(w) for w in analyzer_count2(doc))\n",
    "\n",
    "# Create a stem_count_vectorizer with stemmed analyzer and ngram_range=(3,4)\n",
    "stem_count_vectorizer2 = CountVectorizer(analyzer=stemmed_words_count2)\n",
    "\n",
    "# Transform the training data using only the 'text' column values: count_train \n",
    "stem_count_train2 = stem_count_vectorizer2.fit_transform(X_train)\n",
    "\n",
    "# Transform the test data using only the 'text' column values: count_test \n",
    "stem_count_test2 = stem_count_vectorizer2.transform(X_test)\n",
    "\n",
    "# Print the first 10 features of the count_vectorizer\n",
    "print(stem_count_vectorizer2.get_feature_names()[:10])"
   ]
  },
  {
   "cell_type": "code",
   "execution_count": 124,
   "metadata": {},
   "outputs": [
    {
     "name": "stdout",
     "output_type": "stream",
     "text": [
      "['000 leagues sea', '000 leagues sea george', '10 000 times', '10 15 minutes', '10 15 minutes cut', '10 15 minutes wendigo', '10 course banquet', '10 minutes film', '10 minutes film ll', '10 minutes past']\n"
     ]
    }
   ],
   "source": [
    "count_vectorizer2 = CountVectorizer(stop_words= \"english\",ngram_range=(3,4))\n",
    "\n",
    "# Transform the training data using only the 'text' column values: count_train \n",
    "count_train2 = count_vectorizer2.fit_transform(X_train)\n",
    "\n",
    "# Transform the test data using only the 'text' column values: count_test \n",
    "count_test2 = count_vectorizer2.transform(X_test)\n",
    "\n",
    "# Print the first 10 features of the count_vectorizer\n",
    "print(count_vectorizer2.get_feature_names()[:10])"
   ]
  },
  {
   "cell_type": "markdown",
   "metadata": {},
   "source": [
    "### 3.3 Tfidf Vectorizer with ngram_range=(1,2)"
   ]
  },
  {
   "cell_type": "code",
   "execution_count": 163,
   "metadata": {
    "collapsed": true
   },
   "outputs": [],
   "source": [
    "analyzer_tfidf1 = TfidfVectorizer(stop_words='english',ngram_range=(1,2)).build_analyzer()\n",
    "\n",
    "def stemmed_words_tfidf1(doc):\n",
    "    return (stemmer.stem(w) for w in analyzer_tfidf1(doc))\n"
   ]
  },
  {
   "cell_type": "code",
   "execution_count": 164,
   "metadata": {},
   "outputs": [
    {
     "name": "stdout",
     "output_type": "stream",
     "text": [
      "['000', '000 leagu', '000 time', '10', '10 000', '10 15', '10 cours', '10 minut', '10 powerpuff', '10 second']\n",
      "  (0, 8585)\t0.366798276603\n",
      "  (0, 23745)\t0.315740695958\n",
      "  (0, 38632)\t0.349216964956\n",
      "  (0, 8656)\t0.610263702704\n",
      "  (0, 23839)\t0.520953512077\n",
      "  (1, 10585)\t0.403947486736\n",
      "  (1, 50758)\t0.434251003349\n",
      "  (1, 24347)\t0.334760611322\n",
      "  (1, 10593)\t0.52104577577\n",
      "  (1, 50762)\t0.51448919008\n",
      "  (2, 28876)\t0.438240267866\n",
      "  (2, 2107)\t0.309206465784\n",
      "  (2, 61114)\t0.357689484954\n",
      "  (2, 28880)\t0.550450098616\n",
      "  (2, 2162)\t0.530471253157\n",
      "  (3, 40576)\t0.61894944091\n",
      "  (3, 51834)\t0.418435999135\n",
      "  (3, 40579)\t0.664690081335\n",
      "  (4, 46559)\t1.0\n"
     ]
    }
   ],
   "source": [
    "# Import TfidfVectorizer\n",
    "from sklearn.feature_extraction.text import TfidfVectorizer\n",
    "\n",
    "# Initialize a TfidfVectorizer object: tfidf_vectorizer\n",
    "stem_tfidf_vectorizer1 = TfidfVectorizer(analyzer=stemmed_words_tfidf1)\n",
    "\n",
    "# Transform the training data: tfidf_train \n",
    "stem_tfidf_train1 = stem_tfidf_vectorizer1.fit_transform(X_train)\n",
    "\n",
    "# Transform the test data: tfidf_test \n",
    "stem_tfidf_test1 = stem_tfidf_vectorizer1.transform(X_test)\n",
    "\n",
    "# Print the first 10 features\n",
    "print(stem_tfidf_vectorizer1.get_feature_names()[:10])\n",
    "\n",
    "# Print the first 5 vectors of the tfidf training data\n",
    "print(stem_tfidf_train1[:5])"
   ]
  },
  {
   "cell_type": "markdown",
   "metadata": {},
   "source": [
    "### 3.4 Tfidf Vectorizer with ngram_range=(3,4)"
   ]
  },
  {
   "cell_type": "code",
   "execution_count": 165,
   "metadata": {
    "collapsed": true
   },
   "outputs": [],
   "source": [
    "analyzer_tfidf2 = TfidfVectorizer(stop_words='english',ngram_range=(3,4)).build_analyzer()\n",
    "\n",
    "def stemmed_words_tfidf2(doc):\n",
    "    return (stemmer.stem(w) for w in analyzer_tfidf2(doc))\n"
   ]
  },
  {
   "cell_type": "code",
   "execution_count": 166,
   "metadata": {
    "scrolled": true
   },
   "outputs": [
    {
     "name": "stdout",
     "output_type": "stream",
     "text": [
      "['000 leagues sea', '000 leagues sea georg', '10 000 time', '10 15 minut', '10 15 minutes cut', '10 15 minutes wendigo', '10 course banquet', '10 minutes film', '10 minutes film l', '10 minutes past']\n",
      "  (0, 12370)\t1.0\n",
      "  (1, 15232)\t1.0\n",
      "  (2, 42503)\t1.0\n"
     ]
    }
   ],
   "source": [
    "# Initialize a TfidfVectorizer object: tfidf_vectorizer\n",
    "stem_tfidf_vectorizer2 = TfidfVectorizer(analyzer=stemmed_words_tfidf2)\n",
    "\n",
    "# Transform the training data: tfidf_train \n",
    "stem_tfidf_train2 =  stem_tfidf_vectorizer2.fit_transform(X_train)\n",
    "\n",
    "# Transform the test data: tfidf_test \n",
    "stem_tfidf_test2 = stem_tfidf_vectorizer2.transform(X_test)\n",
    "\n",
    "# Print the first 10 features\n",
    "print(stem_tfidf_vectorizer2.get_feature_names()[:10])\n",
    "\n",
    "# Print the first 5 vectors of the tfidf training data\n",
    "print(stem_tfidf_train2[:5])"
   ]
  },
  {
   "cell_type": "markdown",
   "metadata": {},
   "source": [
    "<h2 id='C4'>4. Modeling, Evaluation and Improving the Model</h2>"
   ]
  },
  {
   "cell_type": "markdown",
   "metadata": {},
   "source": [
    "### 4.1 Train and evaluate the multinomial naive bayes model by the training data with count vectorier"
   ]
  },
  {
   "cell_type": "code",
   "execution_count": 167,
   "metadata": {
    "scrolled": true
   },
   "outputs": [
    {
     "name": "stdout",
     "output_type": "stream",
     "text": [
      "[1 3 2 ..., 2 3 2]\n",
      "0.615980582524\n",
      "[[  850  1080   340    42     3]\n",
      " [  814  4321  3559   401    37]\n",
      " [  282  2672 19781  3147   301]\n",
      " [   44   392  3765  5562  1018]\n",
      " [    4    44   349  1483  1209]]\n"
     ]
    }
   ],
   "source": [
    "# Instantiate a Multinomial Naive Bayes classifier: nb_classifier\n",
    "nb_classifier = MultinomialNB()\n",
    "\n",
    "# Fit the classifier to the training data\n",
    "nb_classifier.fit(stem_count_train1,y_train)\n",
    "\n",
    "# Create the predicted tags: pred\n",
    "pred = nb_classifier.predict(stem_count_test1)\n",
    "print(pred)\n",
    "\n",
    "# Calculate the accuracy score: score\n",
    "score = metrics.accuracy_score(y_test,pred)\n",
    "print(score)\n",
    "\n",
    "# Calculate the confusion matrix: cm\n",
    "cm =  metrics.confusion_matrix(y_test,pred,labels=[0,1,2,3,4])\n",
    "print(cm)\n"
   ]
  },
  {
   "cell_type": "markdown",
   "metadata": {},
   "source": [
    "### 4.2 Improving the model of 4.1 by tweaking alpha level "
   ]
  },
  {
   "cell_type": "code",
   "execution_count": 168,
   "metadata": {},
   "outputs": [
    {
     "name": "stdout",
     "output_type": "stream",
     "text": [
      "ngram_range=(1,2)\n",
      "Alpha:  0.0\n",
      "Score:  0.570718446602\n",
      "Alpha:  0.1\n",
      "Score:  0.580038834951\n",
      "Alpha:  0.2\n"
     ]
    },
    {
     "name": "stderr",
     "output_type": "stream",
     "text": [
      "C:\\Users\\Alexander\\Anaconda3\\lib\\site-packages\\sklearn\\naive_bayes.py:472: UserWarning: alpha too small will result in numeric errors, setting alpha = 1.0e-10\n",
      "  'setting alpha = %.1e' % _ALPHA_MIN)\n"
     ]
    },
    {
     "name": "stdout",
     "output_type": "stream",
     "text": [
      "Score:  0.585786407767\n",
      "Alpha:  0.3\n",
      "Score:  0.591223300971\n",
      "Alpha:  0.4\n",
      "Score:  0.597165048544\n",
      "Alpha:  0.5\n",
      "Score:  0.601339805825\n",
      "Alpha:  0.6\n",
      "Score:  0.605514563107\n",
      "Alpha:  0.7\n",
      "Score:  0.608970873786\n",
      "Alpha:  0.8\n",
      "Score:  0.61172815534\n",
      "Alpha:  0.9\n",
      "Score:  0.613553398058\n",
      "Alpha:  1.0\n",
      "Score:  0.615980582524\n",
      "Alpha:  1.1\n",
      "Score:  0.617029126214\n",
      "Alpha:  1.2\n",
      "Score:  0.618213592233\n",
      "Alpha:  1.3\n",
      "Score:  0.619689320388\n",
      "Alpha:  1.4\n",
      "Score:  0.620601941748\n",
      "Alpha:  1.5\n",
      "Score:  0.621242718447\n",
      "Alpha:  1.6\n",
      "Score:  0.62227184466\n",
      "Alpha:  1.7\n",
      "Score:  0.622776699029\n",
      "Alpha:  1.8\n",
      "Score:  0.622757281553\n",
      "Alpha:  1.9\n",
      "Score:  0.623203883495\n",
      "Alpha:  2.0\n",
      "Score:  0.622757281553\n",
      "Alpha:  2.1\n",
      "Score:  0.622504854369\n",
      "Alpha:  2.2\n",
      "Score:  0.622873786408\n",
      "Alpha:  2.3\n",
      "Score:  0.622815533981\n",
      "Alpha:  2.4\n",
      "Score:  0.622737864078\n",
      "Alpha:  2.5\n",
      "Score:  0.622621359223\n",
      "Alpha:  2.6\n",
      "Score:  0.622291262136\n",
      "Alpha:  2.7\n",
      "Score:  0.621825242718\n",
      "Alpha:  2.8\n",
      "Score:  0.621436893204\n",
      "Alpha:  2.9\n",
      "Score:  0.621165048544\n",
      "Alpha:  3.0\n",
      "Score:  0.621126213592\n",
      "Alpha:  3.1\n",
      "Score:  0.620893203883\n",
      "Alpha:  3.2\n",
      "Score:  0.61972815534\n",
      "Alpha:  3.3\n",
      "Score:  0.619048543689\n",
      "Alpha:  3.4\n",
      "Score:  0.618582524272\n",
      "Alpha:  3.5\n",
      "Score:  0.618116504854\n",
      "Alpha:  3.6\n",
      "Score:  0.617708737864\n",
      "Alpha:  3.7\n",
      "Score:  0.617165048544\n",
      "Alpha:  3.8\n",
      "Score:  0.616796116505\n",
      "Alpha:  3.9\n",
      "Score:  0.616349514563\n",
      "Alpha:  4.0\n",
      "Score:  0.616038834951\n",
      "Alpha:  4.1\n",
      "Score:  0.615631067961\n",
      "Alpha:  4.2\n",
      "Score:  0.615514563107\n",
      "Alpha:  4.3\n",
      "Score:  0.614737864078\n",
      "Alpha:  4.4\n",
      "Score:  0.613922330097\n",
      "Alpha:  4.5\n",
      "Score:  0.613844660194\n",
      "Alpha:  4.6\n",
      "Score:  0.613242718447\n",
      "Alpha:  4.7\n",
      "Score:  0.612640776699\n",
      "Alpha:  4.8\n",
      "Score:  0.611747572816\n",
      "Alpha:  4.9\n",
      "Score:  0.611009708738\n",
      "ngram_range=(3,4)\n",
      "Alpha:  0.0\n",
      "Score:  0.575961165049\n",
      "Alpha:  0.1\n",
      "Score:  0.578834951456\n",
      "Alpha:  0.2\n",
      "Score:  0.580873786408\n",
      "Alpha:  0.3\n",
      "Score:  0.581766990291\n",
      "Alpha:  0.4\n",
      "Score:  0.582640776699\n",
      "Alpha:  0.5\n",
      "Score:  0.582970873786\n",
      "Alpha:  0.6\n",
      "Score:  0.58372815534\n",
      "Alpha:  0.7\n",
      "Score:  0.583300970874\n",
      "Alpha:  0.8\n",
      "Score:  0.581747572816\n",
      "Alpha:  0.9\n",
      "Score:  0.581747572816\n",
      "Alpha:  1.0\n",
      "Score:  0.581941747573\n",
      "Alpha:  1.1\n",
      "Score:  0.582077669903\n",
      "Alpha:  1.2\n",
      "Score:  0.58227184466\n",
      "Alpha:  1.3\n",
      "Score:  0.582660194175\n",
      "Alpha:  1.4\n",
      "Score:  0.583281553398\n",
      "Alpha:  1.5\n",
      "Score:  0.580291262136\n",
      "Alpha:  1.6\n",
      "Score:  0.580349514563\n",
      "Alpha:  1.7\n",
      "Score:  0.580349514563\n",
      "Alpha:  1.8\n",
      "Score:  0.579883495146\n",
      "Alpha:  1.9\n",
      "Score:  0.579747572816\n",
      "Alpha:  2.0\n",
      "Score:  0.580019417476\n",
      "Alpha:  2.1\n",
      "Score:  0.579611650485\n",
      "Alpha:  2.2\n",
      "Score:  0.577902912621\n",
      "Alpha:  2.3\n",
      "Score:  0.577708737864\n",
      "Alpha:  2.4\n",
      "Score:  0.577980582524\n",
      "Alpha:  2.5\n",
      "Score:  0.577766990291\n",
      "Alpha:  2.6\n",
      "Score:  0.577631067961\n",
      "Alpha:  2.7\n",
      "Score:  0.577223300971\n",
      "Alpha:  2.8\n",
      "Score:  0.576640776699\n",
      "Alpha:  2.9\n",
      "Score:  0.575106796117\n",
      "Alpha:  3.0\n",
      "Score:  0.575126213592\n",
      "Alpha:  3.1\n",
      "Score:  0.574194174757\n",
      "Alpha:  3.2\n",
      "Score:  0.574077669903\n",
      "Alpha:  3.3\n",
      "Score:  0.573708737864\n",
      "Alpha:  3.4\n",
      "Score:  0.573611650485\n",
      "Alpha:  3.5\n",
      "Score:  0.573203883495\n",
      "Alpha:  3.6\n",
      "Score:  0.573203883495\n",
      "Alpha:  3.7\n",
      "Score:  0.57254368932\n",
      "Alpha:  3.8\n",
      "Score:  0.572368932039\n",
      "Alpha:  3.9\n",
      "Score:  0.572174757282\n",
      "Alpha:  4.0\n",
      "Score:  0.571941747573\n",
      "Alpha:  4.1\n",
      "Score:  0.570951456311\n",
      "Alpha:  4.2\n",
      "Score:  0.570854368932\n",
      "Alpha:  4.3\n",
      "Score:  0.570504854369\n",
      "Alpha:  4.4\n",
      "Score:  0.570291262136\n",
      "Alpha:  4.5\n",
      "Score:  0.570174757282\n",
      "Alpha:  4.6\n",
      "Score:  0.570213592233\n",
      "Alpha:  4.7\n",
      "Score:  0.570194174757\n",
      "Alpha:  4.8\n",
      "Score:  0.57\n",
      "Alpha:  4.9\n",
      "Score:  0.56945631068\n"
     ]
    }
   ],
   "source": [
    "# Create the list of alphas: alphas\n",
    "alphas = np.arange(0,5,0.1)\n",
    "\n",
    "# Define train_and_predict()\n",
    "def train_and_predict(alpha,count_train,count_test):\n",
    "    # Instantiate the classifier: nb_classifier\n",
    "    nb_classifier = MultinomialNB(alpha=alpha)\n",
    "    # Fit to the training data\n",
    "    nb_classifier.fit(count_train,y_train)\n",
    "    # Predict the labels: pred\n",
    "    pred = nb_classifier.predict(count_test)\n",
    "    # Compute accuracy: score\n",
    "    score = metrics.accuracy_score(y_test,pred)\n",
    "    return score\n",
    "\n",
    "print('ngram_range=(1,2)')\n",
    "# Iterate over the alphas and print the corresponding score\n",
    "for alpha in alphas:\n",
    "    print('Alpha: ', alpha)\n",
    "    print('Score: ', train_and_predict(alpha,stem_count_train1,stem_count_test1))\n",
    "\n",
    "print('ngram_range=(3,4)')\n",
    "# Iterate over the alphas and print the corresponding score\n",
    "for alpha in alphas:\n",
    "    print('Alpha: ', alpha)\n",
    "    print('Score: ', train_and_predict(alpha,stem_count_train2,stem_count_test2))\n"
   ]
  },
  {
   "cell_type": "markdown",
   "metadata": {},
   "source": [
    "According to the outcome above, best alpha of multinomial NB is 1.9 for countvectorizer and (1,2) is a better ngram_range, and best score is 0.623"
   ]
  },
  {
   "cell_type": "markdown",
   "metadata": {},
   "source": [
    "### 4.3 Train and evaluate the multinomial naive bayes model by the training data with tfidf vectorier"
   ]
  },
  {
   "cell_type": "code",
   "execution_count": 169,
   "metadata": {},
   "outputs": [
    {
     "name": "stdout",
     "output_type": "stream",
     "text": [
      "0.601262135922\n",
      "[[   89   969  1227    30     0]\n",
      " [   30  2410  6518   174     0]\n",
      " [    4   800 24121  1254     4]\n",
      " [    0    83  6460  4185    53]\n",
      " [    0     6  1121  1802   160]]\n"
     ]
    }
   ],
   "source": [
    "# Create a Multinomial Naive Bayes classifier: nb_classifier\n",
    "nb_classifier = MultinomialNB()\n",
    "\n",
    "# Fit the classifier to the training data\n",
    "nb_classifier.fit(stem_tfidf_train1,y_train)\n",
    "\n",
    "# Create the predicted tags: pred\n",
    "pred = nb_classifier.predict(stem_tfidf_test1)\n",
    "\n",
    "# Calculate the accuracy score: score\n",
    "score = metrics.accuracy_score(y_test,pred)\n",
    "print(score)\n",
    "\n",
    "# Calculate the confusion matrix: cm\n",
    "cm = metrics.confusion_matrix(y_test,pred,labels=[0,1,2,3,4])\n",
    "print(cm)\n"
   ]
  },
  {
   "cell_type": "markdown",
   "metadata": {},
   "source": [
    "### 4.4 Improving the model of 4.3 by tweaking alpha level"
   ]
  },
  {
   "cell_type": "code",
   "execution_count": 170,
   "metadata": {
    "scrolled": true
   },
   "outputs": [
    {
     "name": "stdout",
     "output_type": "stream",
     "text": [
      "ngram_range=(1,2)\n",
      "Alpha:  0.0\n",
      "Score:  0.611242718447\n",
      "\n",
      "Alpha:  0.02\n",
      "Score:  0.617184466019\n",
      "\n",
      "Alpha:  0.04\n"
     ]
    },
    {
     "name": "stderr",
     "output_type": "stream",
     "text": [
      "C:\\Users\\Alexander\\Anaconda3\\lib\\site-packages\\sklearn\\naive_bayes.py:472: UserWarning: alpha too small will result in numeric errors, setting alpha = 1.0e-10\n",
      "  'setting alpha = %.1e' % _ALPHA_MIN)\n"
     ]
    },
    {
     "name": "stdout",
     "output_type": "stream",
     "text": [
      "Score:  0.620213592233\n",
      "\n",
      "Alpha:  0.06\n",
      "Score:  0.622563106796\n",
      "\n",
      "Alpha:  0.08\n",
      "Score:  0.624466019417\n",
      "\n",
      "Alpha:  0.1\n",
      "Score:  0.626038834951\n",
      "\n",
      "Alpha:  0.12\n",
      "Score:  0.626563106796\n",
      "\n",
      "Alpha:  0.14\n",
      "Score:  0.627922330097\n",
      "\n",
      "Alpha:  0.16\n",
      "Score:  0.629165048544\n",
      "\n",
      "Alpha:  0.18\n",
      "Score:  0.628893203883\n",
      "\n",
      "Alpha:  0.2\n",
      "Score:  0.629223300971\n",
      "\n",
      "Alpha:  0.22\n",
      "Score:  0.629436893204\n",
      "\n",
      "Alpha:  0.24\n",
      "Score:  0.629359223301\n",
      "\n",
      "Alpha:  0.26\n",
      "Score:  0.629165048544\n",
      "\n",
      "Alpha:  0.28\n",
      "Score:  0.629145631068\n",
      "\n",
      "Alpha:  0.3\n",
      "Score:  0.629572815534\n",
      "\n",
      "Alpha:  0.32\n",
      "Score:  0.628504854369\n",
      "\n",
      "Alpha:  0.34\n",
      "Score:  0.628466019417\n",
      "\n",
      "Alpha:  0.36\n",
      "Score:  0.628368932039\n",
      "\n",
      "Alpha:  0.38\n",
      "Score:  0.628019417476\n",
      "\n",
      "Alpha:  0.4\n",
      "Score:  0.627242718447\n",
      "\n",
      "Alpha:  0.42\n",
      "Score:  0.626310679612\n",
      "\n",
      "Alpha:  0.44\n",
      "Score:  0.62586407767\n",
      "\n",
      "Alpha:  0.46\n",
      "Score:  0.625300970874\n",
      "\n",
      "Alpha:  0.48\n",
      "Score:  0.625048543689\n",
      "\n",
      "Alpha:  0.5\n",
      "Score:  0.624097087379\n",
      "\n",
      "Alpha:  0.52\n",
      "Score:  0.623165048544\n",
      "\n",
      "Alpha:  0.54\n",
      "Score:  0.622291262136\n",
      "\n",
      "Alpha:  0.56\n",
      "Score:  0.621281553398\n",
      "\n",
      "Alpha:  0.58\n",
      "Score:  0.62040776699\n",
      "\n",
      "Alpha:  0.6\n",
      "Score:  0.62\n",
      "\n",
      "Alpha:  0.62\n",
      "Score:  0.618368932039\n",
      "\n",
      "Alpha:  0.64\n",
      "Score:  0.617378640777\n",
      "\n",
      "Alpha:  0.66\n",
      "Score:  0.616932038835\n",
      "\n",
      "Alpha:  0.68\n",
      "Score:  0.615689320388\n",
      "\n",
      "Alpha:  0.7\n",
      "Score:  0.614699029126\n",
      "\n",
      "Alpha:  0.72\n",
      "Score:  0.61372815534\n",
      "\n",
      "Alpha:  0.74\n",
      "Score:  0.612854368932\n",
      "\n",
      "Alpha:  0.76\n",
      "Score:  0.612233009709\n",
      "\n",
      "Alpha:  0.78\n",
      "Score:  0.611223300971\n",
      "\n",
      "Alpha:  0.8\n",
      "Score:  0.610155339806\n",
      "\n",
      "Alpha:  0.82\n",
      "Score:  0.609203883495\n",
      "\n",
      "Alpha:  0.84\n",
      "Score:  0.608388349515\n",
      "\n",
      "Alpha:  0.86\n",
      "Score:  0.607533980583\n",
      "\n",
      "Alpha:  0.88\n",
      "Score:  0.606776699029\n",
      "\n",
      "Alpha:  0.9\n",
      "Score:  0.605766990291\n",
      "\n",
      "Alpha:  0.92\n",
      "Score:  0.604699029126\n",
      "\n",
      "Alpha:  0.94\n",
      "Score:  0.603844660194\n",
      "\n",
      "Alpha:  0.96\n",
      "Score:  0.603048543689\n",
      "\n",
      "Alpha:  0.98\n",
      "Score:  0.602155339806\n",
      "\n",
      "ngram_range=(3,4)\n",
      "Alpha:  0.0\n",
      "Score:  0.591223300971\n",
      "\n",
      "Alpha:  0.02\n",
      "Score:  0.593106796117\n",
      "\n",
      "Alpha:  0.04\n",
      "Score:  0.594388349515\n",
      "\n",
      "Alpha:  0.06\n",
      "Score:  0.595262135922\n",
      "\n",
      "Alpha:  0.08\n",
      "Score:  0.595844660194\n",
      "\n",
      "Alpha:  0.1\n",
      "Score:  0.596427184466\n",
      "\n",
      "Alpha:  0.12\n",
      "Score:  0.597106796117\n",
      "\n",
      "Alpha:  0.14\n",
      "Score:  0.597398058252\n",
      "\n",
      "Alpha:  0.16\n",
      "Score:  0.597766990291\n",
      "\n",
      "Alpha:  0.18\n",
      "Score:  0.598077669903\n",
      "\n",
      "Alpha:  0.2\n",
      "Score:  0.598330097087\n",
      "\n",
      "Alpha:  0.22\n",
      "Score:  0.598155339806\n",
      "\n",
      "Alpha:  0.24\n",
      "Score:  0.598310679612\n",
      "\n",
      "Alpha:  0.26\n",
      "Score:  0.597650485437\n",
      "\n",
      "Alpha:  0.28\n",
      "Score:  0.597631067961\n",
      "\n",
      "Alpha:  0.3\n",
      "Score:  0.597087378641\n",
      "\n",
      "Alpha:  0.32\n",
      "Score:  0.596388349515\n",
      "\n",
      "Alpha:  0.34\n",
      "Score:  0.595941747573\n",
      "\n",
      "Alpha:  0.36\n",
      "Score:  0.595495145631\n",
      "\n",
      "Alpha:  0.38\n",
      "Score:  0.595378640777\n",
      "\n",
      "Alpha:  0.4\n",
      "Score:  0.594815533981\n",
      "\n",
      "Alpha:  0.42\n",
      "Score:  0.593941747573\n",
      "\n",
      "Alpha:  0.44\n",
      "Score:  0.593281553398\n",
      "\n",
      "Alpha:  0.46\n",
      "Score:  0.592757281553\n",
      "\n",
      "Alpha:  0.48\n",
      "Score:  0.592058252427\n",
      "\n",
      "Alpha:  0.5\n",
      "Score:  0.591533980583\n",
      "\n",
      "Alpha:  0.52\n",
      "Score:  0.591378640777\n",
      "\n",
      "Alpha:  0.54\n",
      "Score:  0.590427184466\n",
      "\n",
      "Alpha:  0.56\n",
      "Score:  0.589980582524\n",
      "\n",
      "Alpha:  0.58\n",
      "Score:  0.589339805825\n",
      "\n",
      "Alpha:  0.6\n",
      "Score:  0.588621359223\n",
      "\n",
      "Alpha:  0.62\n",
      "Score:  0.587087378641\n",
      "\n",
      "Alpha:  0.64\n",
      "Score:  0.586466019417\n",
      "\n",
      "Alpha:  0.66\n",
      "Score:  0.585980582524\n",
      "\n",
      "Alpha:  0.68\n",
      "Score:  0.585339805825\n",
      "\n",
      "Alpha:  0.7\n",
      "Score:  0.584097087379\n",
      "\n",
      "Alpha:  0.72\n",
      "Score:  0.582834951456\n",
      "\n",
      "Alpha:  0.74\n",
      "Score:  0.582155339806\n",
      "\n",
      "Alpha:  0.76\n",
      "Score:  0.581844660194\n",
      "\n",
      "Alpha:  0.78\n",
      "Score:  0.581145631068\n",
      "\n",
      "Alpha:  0.8\n",
      "Score:  0.578310679612\n",
      "\n",
      "Alpha:  0.82\n",
      "Score:  0.577650485437\n",
      "\n",
      "Alpha:  0.84\n",
      "Score:  0.57667961165\n",
      "\n",
      "Alpha:  0.86\n",
      "Score:  0.575650485437\n",
      "\n",
      "Alpha:  0.88\n",
      "Score:  0.574873786408\n",
      "\n",
      "Alpha:  0.9\n",
      "Score:  0.574504854369\n",
      "\n",
      "Alpha:  0.92\n",
      "Score:  0.574330097087\n",
      "\n",
      "Alpha:  0.94\n",
      "Score:  0.573611650485\n",
      "\n",
      "Alpha:  0.96\n",
      "Score:  0.572757281553\n",
      "\n",
      "Alpha:  0.98\n",
      "Score:  0.572116504854\n",
      "\n"
     ]
    }
   ],
   "source": [
    "# Create the list of alphas: alphas\n",
    "alphas = np.arange(0,1,0.02)\n",
    "\n",
    "# Define train_and_predict()\n",
    "def train_and_predict(alpha,tfidf_train,tfidf_test):\n",
    "    # Instantiate the classifier: nb_classifier\n",
    "    nb_classifier = MultinomialNB(alpha=alpha)\n",
    "    # Fit to the training data\n",
    "    nb_classifier.fit(tfidf_train,y_train)\n",
    "    # Predict the labels: pred\n",
    "    pred = nb_classifier.predict(tfidf_test)\n",
    "    # Compute accuracy: score\n",
    "    score = metrics.accuracy_score(y_test,pred)\n",
    "    return score\n",
    "\n",
    "print('ngram_range=(1,2)')\n",
    "# Iterate over the alphas and print the corresponding score\n",
    "for alpha in alphas:\n",
    "    print('Alpha: ', alpha)\n",
    "    print('Score: ', train_and_predict(alpha,stem_tfidf_train1,stem_tfidf_test1))\n",
    "    print()\n",
    "\n",
    "print('ngram_range=(3,4)')\n",
    "for alpha in alphas:\n",
    "    print('Alpha: ', alpha)\n",
    "    print('Score: ', train_and_predict(alpha,stem_tfidf_train2,stem_tfidf_test2))\n",
    "    print()\n"
   ]
  },
  {
   "cell_type": "markdown",
   "metadata": {},
   "source": [
    "According to the outcome above, best alpha of multinomial NB is 0.3 for tfidfvectorizer with (1,2) ngram_range, and best score is 0.63."
   ]
  },
  {
   "cell_type": "markdown",
   "metadata": {},
   "source": [
    "### 4.5  Inspect the model and explore the vector weights of actual words"
   ]
  },
  {
   "cell_type": "code",
   "execution_count": 171,
   "metadata": {
    "scrolled": true
   },
   "outputs": [
    {
     "name": "stdout",
     "output_type": "stream",
     "text": [
      "0 [(-11.307602898881024, '000 leagues'), (-11.307602898881024, '10 course'), (-11.307602898881024, '10 powerpuff'), (-11.307602898881024, '10 unlikely'), (-11.307602898881024, '100 year'), (-11.307602898881024, '100 years'), (-11.307602898881024, '101'), (-11.307602898881024, '101 minutes'), (-11.307602898881024, '104 minutes'), (-11.307602898881024, '105'), (-11.307602898881024, '105 minutes'), (-11.307602898881024, '10th film'), (-11.307602898881024, '10th grade'), (-11.307602898881024, '11'), (-11.307602898881024, '11 new'), (-11.307602898881024, '11 philosophical'), (-11.307602898881024, '11 sum'), (-11.307602898881024, '11 years'), (-11.307602898881024, '112'), (-11.307602898881024, '12 shot')]\n",
      "1 [(-8.3156111827937913, 'achievement'), (-8.313258721623658, 'looking exit'), (-8.2866104152944811, 'group people'), (-8.2633149013409284, 'shines like'), (-8.2520538837551243, 'attempts wear'), (-8.2266943185196748, 'offbeat sensibilities'), (-8.2106831320832931, 'sound convincing'), (-8.2078655052336771, 'classified alternate'), (-8.1200220684698436, 'liberties'), (-8.0740824848828154, 'important director'), (-8.0614622758196521, 'cartoon suspenseful'), (-8.0419948243097679, 'stammers'), (-8.012175631227997, 'disney pic'), (-7.9993647235889078, 'lovely cal'), (-7.9129863944568797, 'blasting stabbing'), (-7.84264458257688, 'tufano'), (-7.6770029491602703, 'jockey'), (-7.3406799461901544, 'expressionist according'), (-6.9489165291683639, 'auditorium blow'), (-6.8411884493231181, 'make share')]\n"
     ]
    }
   ],
   "source": [
    "# Get the class labels: class_labels\n",
    "class_labels = nb_classifier.classes_\n",
    "\n",
    "# Extract the features: feature_names\n",
    "feature_names = count_vectorizer1.get_feature_names()\n",
    "\n",
    "# Zip the feature names together with the coefficient array and sort by weights: feat_with_weights\n",
    "feat_with_weights = sorted(zip(nb_classifier.coef_[0], feature_names))\n",
    "\n",
    "# Print the first class label and the top 20 feat_with_weights entries\n",
    "print(class_labels[0], feat_with_weights[:20])\n",
    "\n",
    "# Print the second class label and the bottom 20 feat_with_weights entries\n",
    "print(class_labels[1], feat_with_weights[-20:])"
   ]
  },
  {
   "cell_type": "code",
   "execution_count": 175,
   "metadata": {},
   "outputs": [
    {
     "name": "stdout",
     "output_type": "stream",
     "text": [
      "0.50840776699\n"
     ]
    }
   ],
   "source": [
    "from sklearn.svm import SVC\n",
    "\n",
    "# Create a support vector classifier\n",
    "clf = SVC(1)\n",
    "\n",
    "# Fit the classifier using the training data\n",
    "clf.fit(stem_count_train1,y_train)\n",
    "\n",
    "# Predict the labels of the test set\n",
    "y_pred = clf.predict(stem_count_test1)\n",
    "        \n",
    "from sklearn import metrics\n",
    "score = metrics.accuracy_score(y_test,y_pred)\n",
    "print(score)\n"
   ]
  },
  {
   "cell_type": "code",
   "execution_count": null,
   "metadata": {
    "collapsed": true
   },
   "outputs": [],
   "source": [
    "# Calculate the confusion matrix: cm\n",
    "cm =  metrics.confusion_matrix(y_test,y_pred,labels=[0,1,2,3,4])\n",
    "print(cm)"
   ]
  },
  {
   "cell_type": "markdown",
   "metadata": {},
   "source": [
    "<h2 id='C5'> 5. Predict the Sentiment labels of Sentiment_unknow Set</h2>"
   ]
  },
  {
   "cell_type": "code",
   "execution_count": 172,
   "metadata": {
    "scrolled": true
   },
   "outputs": [
    {
     "name": "stdout",
     "output_type": "stream",
     "text": [
      "[3 3 2 ..., 2 2 2]\n"
     ]
    },
    {
     "data": {
      "text/plain": [
       "<matplotlib.text.Text at 0x29f05280d30>"
      ]
     },
     "execution_count": 172,
     "metadata": {},
     "output_type": "execute_result"
    },
    {
     "data": {
      "image/png": "[encoded data removed]",
      "text/plain": [
       "<matplotlib.figure.Figure at 0x29f099ec2b0>"
      ]
     },
     "metadata": {},
     "output_type": "display_data"
    }
   ],
   "source": [
    "X_senti_unknown = senti_unknown.Phrase\n",
    "count_senti_unknown = count_vectorizer1.transform(X_senti_unknown)\n",
    "# Instantiate the classifier: nb_classifier\n",
    "nb_classifier = MultinomialNB(alpha=2.4)\n",
    "# Fit to the training data\n",
    "nb_classifier.fit(count_train1,y_train)\n",
    "pred_senti_unknown = nb_classifier.predict(count_senti_unknown)\n",
    "print(pred_senti_unknown)\n",
    "_ = plt.hist(pred_senti_unknown)\n",
    "plt.xlabel('Sentiment')\n",
    "plt.ylabel('Number of reviews')"
   ]
  },
  {
   "cell_type": "markdown",
   "metadata": {},
   "source": [
    "<h2 id='C6'>6. Conclusion</h2>\n",
    "<p>In this project, a mutilnomial model is built to analyze the sentiment of moie reviews. Compared with count vectoriser, tfidf vectoriser is a better choice. And best alpha is 3.0 for the model trained by data with tfidf vectorizer(ngram_range=(1,2)), while it's 1.9 for count vectoriser. And best accuracy score with this model is 0.63. </p>"
   ]
  },
  {
   "cell_type": "markdown",
   "metadata": {},
   "source": [
    "</html>\n",
    "</body>"
   ]
  }
 ],
 "metadata": {
  "kernelspec": {
   "display_name": "Python [conda root]",
   "language": "python",
   "name": "conda-root-py"
  },
  "language_info": {
   "codemirror_mode": {
    "name": "ipython",
    "version": 3
   },
   "file_extension": ".py",
   "mimetype": "text/x-python",
   "name": "python",
   "nbconvert_exporter": "python",
   "pygments_lexer": "ipython3",
   "version": "3.6.2"
  }
 },
 "nbformat": 4,
 "nbformat_minor": 2
}
